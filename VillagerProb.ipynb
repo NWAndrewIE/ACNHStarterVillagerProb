{
 "cells": [
  {
   "cell_type": "markdown",
   "metadata": {},
   "source": [
    "## Calculation of AC:NH Starter villagers certain combo probability\n",
    "### (c) 2024 Andrew B., The Merfolian University of Informational Technologies\n",
    "---"
   ]
  },
  {
   "cell_type": "markdown",
   "metadata": {},
   "source": [
    "### 1. Count all Jocks and all Sisterlies"
   ]
  },
  {
   "cell_type": "code",
   "execution_count": 5,
   "metadata": {},
   "outputs": [
    {
     "name": "stdout",
     "output_type": "stream",
     "text": [
      "Jocks:  57\n",
      "Sisterlies: 26\n"
     ]
    }
   ],
   "source": [
    "# a list of Jock villagers\n",
    "villagersList1 = \"Ace;Antonio;Axel;Bam;Biff;Bill;Billy;Boone;Boots;Buck;Bud;Coach;Cobb;Cousteau;Curly;Dom;Drift;Flip;Frobert;Genji;Goose;Hamlet;Iggly;Jay;Jitters;Kevin;Kid Cat;Kody;Leonardo;Louie;Lyman;Mac;Moose;Mott;Peck;Pierce;Poncho;Ribbot;Roald;Rod;Rory;Rowan;Rudy;Samson;Scoot;Sheldon;Sly;Snake;Sparro;Sprocket;Sterling;Stinky;Tad;Tank;Teddy;Tiansheng;Tybalt\".split(\";\")\n",
    "# a list of Sisterly villagers\n",
    "villagersList2 = \"Agnes;Canberra;Charlise;Cherry;Deirdre;Diva;Faith;Flo;Frita;Fuchsia;Hazel;Katt;Mira;Muffy;Pashmina;Paula;Phoebe;Plucky;Quinn;Renée;Reneigh;Rocket;Shari;Sylvia;Tammy;Ursala\".split(\";\")\n",
    "\n",
    "j = len(villagersList1)\n",
    "s = len(villagersList2)\n",
    "\n",
    "print(\"Jocks: \", j)\n",
    "print(\"Sisterlies:\", s)"
   ]
  },
  {
   "cell_type": "markdown",
   "metadata": {},
   "source": [
    "### 2. Calculate the mathematical probability of obtaining the certain combo (marked as P(A))\n",
    "to calculate this mathematical probability, we use deterministic approach. We take 1 from Jocks (1/57) and 1 from Sisterlies (1/26)\n",
    "\n",
    "=> P(A) = (1/57) * (1/26)"
   ]
  },
  {
   "cell_type": "code",
   "execution_count": 6,
   "metadata": {},
   "outputs": [
    {
     "name": "stdout",
     "output_type": "stream",
     "text": [
      "P(A) = 0.0006747638326585695 \t( 0.067 %)\n"
     ]
    }
   ],
   "source": [
    "PA = (1/j) * (1/s)\n",
    "\n",
    "print(\"P(A) =\", PA, \"\\t(\", round(PA*100, 3),\"%)\")"
   ]
  },
  {
   "cell_type": "markdown",
   "metadata": {},
   "source": [
    "### 3. Villager Chooser (by me; also we'll use its code base on next code)"
   ]
  },
  {
   "cell_type": "code",
   "execution_count": 7,
   "metadata": {},
   "outputs": [
    {
     "name": "stdout",
     "output_type": "stream",
     "text": [
      "nwhite has restarted the island. Their' starter villagers are Tiansheng and Plucky\n"
     ]
    }
   ],
   "source": [
    "import random, os                            # imports random for choosing villagers and os for getting username\n",
    "\n",
    "username = os.getlogin()                     # getting your local username on Windows/POSIX systems\n",
    "\n",
    "villager1 = random.choice(villagersList1)    # choose first vilager\n",
    "villager2 = random.choice(villagersList2)    # choose second villager\n",
    "\n",
    "# print a result which shows which villagers are with you on the new island\n",
    "print(username, \"has restarted the island. Their' starter villagers are\", villager1,\"and\", villager2)"
   ]
  },
  {
   "cell_type": "markdown",
   "metadata": {},
   "source": [
    "### 4. Villager Combo probability calculator (by experiments)\n",
    "\n",
    "// click Ctrl+C (on Windows or GNU/Linux)/Cmd[⌘]+C (on macOS) while having the experimental process to interrupt this process and begin to calculate the statistics based on results stored in the memory\n",
    "\n",
    "// if you get the NameError (because of VillagerListn {n is 1 or 2} is not defined), run the first code to add the villagers lists to the variables list "
   ]
  },
  {
   "cell_type": "code",
   "execution_count": 8,
   "metadata": {
    "scrolled": true
   },
   "outputs": [
    {
     "name": "stdout",
     "output_type": "stream",
     "text": [
      "Number of experiments > 10000\n",
      "Experimental process began. # of experiments typed: 10000\n",
      "Click Ctrl+C (on Windows or GNU/Linux)/Cmd+C (on macOS) to interrupt this process.\n",
      "--------------------------------\n",
      "Total attempts:  14722642\n",
      "Average # of attempts:  1472\n",
      "Average probability:  0.0006792259161093505 \t( 0.068 %)\n",
      "Median value of attempts:  1029\n",
      "Experiments taken:  10000\n"
     ]
    }
   ],
   "source": [
    "import random, os                       # imports the libraries random (responsible for choosing random villagers from the list) \n",
    "                                        # and os (was responsible to giving the username to the interpreter to show the villager getting text)\n",
    "\n",
    "# initialize all values\n",
    "reslist = []                            # list of attempts\n",
    "mid = 0                                 # average number of attempts\n",
    "median = 0                              # median value of attempts\n",
    "probmid = 0                             # average probability of event A (read Snippet 2)\n",
    "att = 0                                 # amount the attempts spent on experiment; on reaching the event A, is written to resList; nullifies on every new experiment\n",
    "expr = 0                                # the \"real\" amount of experiments; added in the case if user interrupts the experimental process\n",
    "exps = 0                                # the amount of experiments typed by user\n",
    "username = os.getlogin()                # your username; takes your local(!) username on Windows/POSIX systems (like macOS [X or newer] or GNU/Linux)\n",
    "                                        # note: username value is the legacy of the previous code and doesn't be used in current code.\n",
    "\n",
    "def medianCalc(attempts):               # calculation of median value\n",
    "    sortedAtt = sorted(attempts)        # sort the list of attempts by increasing the number\n",
    "    na = len(sortedAtt)                 # calc the length of sorted list of attempts\n",
    "\n",
    "    if na % 2 == 0:                     # if amount of experiments taken is even,\n",
    "        mi1 = na // 2 - 1               # take 2 middle values from the sorted list\n",
    "        mi2 = na // 2                   # and calculate an average number\n",
    "        median = int(round((sortedAtt[mi1] + sortedAtt[mi2]) / 2, 0))\n",
    "    else:                               # but if amount of experiments is odd,\n",
    "        mi1 = na // 2                   # just take the middle value from the sorted list\n",
    "        median = int(round((sortedAtt[mi1]), 0))\n",
    "\n",
    "    print(\"Median value of attempts: \", median)     # print out the median value\n",
    "\n",
    "def resCalc():\n",
    "    totalatt = 0                        # total attempts\n",
    "    for i in range(len(reslist)): totalatt += reslist[i]          # total attempts\n",
    "    print(\"--------------------------------\"), print(\"Total attempts: \", totalatt)\n",
    "    mid = totalatt / expr               # average number of attempts used\n",
    "    print(\"Average # of attempts: \", int(round(mid, 0)))\n",
    "    probmid = 1/mid                     # average probability of the event of taking a certain combo\n",
    "    print(\"Average probability: \", probmid, \"\\t(\", round(probmid * 100, 3),\"%)\")\n",
    "    medianCalc(reslist)\n",
    "    print(\"Experiments taken: \", expr)  # how many experiments taken to calculate the stats\n",
    "\n",
    "while exps <= 0:                        # input the number of experiments\n",
    "    try:\n",
    "        exps = int(input(\"Number of experiments > \"))\n",
    "        if exps <= 0:                       # typed incorrect number (-inf; 0]\n",
    "            print(\"Incorrect number of experiments. Type again (min 1).\")\n",
    "        elif isinstance(exps, int):         # typed correct number [1; +inf) and it is integer\n",
    "            print(\"Experimental process began. # of experiments typed:\", exps)\n",
    "            print(\"Click Ctrl+C (on Windows or GNU/Linux)/Cmd+C (on macOS) to interrupt this process.\")\n",
    "            pass\n",
    "    except ValueError:                      # we typed a wrong type of number (ex. float)\n",
    "        print(\"Incorrect number of experiments. Type again (min 1).\")\n",
    "\n",
    "try:\n",
    "    for k in range(exps):\n",
    "        att = 0     # nullify the amount of attempts every time we start an experiment\n",
    "        while expr < exps:\n",
    "            villager1 = random.choice(villagersList1)    # choose first vilager\n",
    "            villager2 = random.choice(villagersList2)    # choose second villager\n",
    "            # print a result which shows which villagers are with you on the new island\n",
    "            # print(username, \"has restarted the island. Their' starter villagers are\", villager1,\"and\", villager2)\n",
    "            att += 1                    # count the attempt spent\n",
    "            if villager1 == \"Peck\" and villager2 == \"Diva\":     # we got a certain combo (in this case, I got Diva & Peck)\n",
    "                # print(\"Found a certain combo. Aborting...\")\n",
    "                # print(\"Attempts of parsing: \", att)\n",
    "                reslist.append(att)     # write the num of attempts of current experiment to result list\n",
    "                break\n",
    "        expr += 1                       # add 1 to the \"real\" value experiment, meaning that the experiment is completed\n",
    "    pass\n",
    "    resCalc()                           # calculate results based on typed amount of attempts\n",
    "except KeyboardInterrupt:               # Ctrl+C (on Windows or GNU/Linux)/Cmd[⌘]+C (on macOS) to calculate according on current result\n",
    "    resCalc()\n",
    "except NameError:                       # occurs if VillagerList1 and/or VillagerList2 is not defined (they both keep in the first Snippet)\n",
    "    print(\"Error: Please run the first code snippet in this Notebook file.\")\n"
   ]
  },
  {
   "cell_type": "markdown",
   "metadata": {},
   "source": [
    "### Note: \n",
    "- larger number of experiments conducted -> \"average probability\" (from Code snippet 4) is more reliable to the \"mathematical one\" (from Code snippet 2)"
   ]
  }
 ],
 "metadata": {
  "kernelspec": {
   "display_name": "Python 3 (ipykernel)",
   "language": "python",
   "name": "python3"
  },
  "language_info": {
   "codemirror_mode": {
    "name": "ipython",
    "version": 3
   },
   "file_extension": ".py",
   "mimetype": "text/x-python",
   "name": "python",
   "nbconvert_exporter": "python",
   "pygments_lexer": "ipython3",
   "version": "3.10.12"
  }
 },
 "nbformat": 4,
 "nbformat_minor": 2
}
